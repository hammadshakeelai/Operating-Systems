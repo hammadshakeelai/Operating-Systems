{
 "cells": [
  {
   "cell_type": "code",
   "execution_count": null,
   "id": "156fc02e",
   "metadata": {},
   "outputs": [],
   "source": [
    "to run \n",
    "dos\n",
    "unix\n",
    "window 8,8.1,10,95,98,98se\n",
    "windows 2000\n",
    "window xp\n",
    "winmenorram\n",
    "opensuse thumble + leap\n",
    "omarchy\n",
    "fedora\n",
    "redhat\n",
    "\n",
    "proxmox\n",
    "vmware esxi\n",
    "rufus\n",
    "belena ecther\n",
    "xem\n",
    "cifrix"
   ]
  },
  {
   "cell_type": "code",
   "execution_count": null,
   "id": "ec79d505",
   "metadata": {},
   "outputs": [],
   "source": [
    "currently have ran \n",
    "ubuntu\n",
    "debian\n",
    "mint\n",
    "lite\n",
    "kali\n",
    "arch with archinstall\n",
    "arch_linux_gnome_gui gui install\n",
    "window 7\n",
    "window 11\n",
    "window vista\n",
    "tried vmware , hyper v , virtual box\n",
    "i find hyper especially challenging do to its featuers being not easy to find or use\n",
    "virtual box being easiest\n",
    "vmware being the best but not easiest"
   ]
  },
  {
   "cell_type": "code",
   "execution_count": null,
   "id": "d3ac7f10",
   "metadata": {},
   "outputs": [],
   "source": [
    "would generate more goal using chatgpt after i can manually install arch without arch install on expert mode\n",
    "without help\n"
   ]
  },
  {
   "cell_type": "code",
   "execution_count": null,
   "id": "00c33958",
   "metadata": {},
   "outputs": [],
   "source": []
  },
  {
   "cell_type": "code",
   "execution_count": null,
   "id": "d5becf52",
   "metadata": {},
   "outputs": [],
   "source": []
  }
 ],
 "metadata": {
  "kernelspec": {
   "display_name": "Python 3",
   "language": "python",
   "name": "python3"
  },
  "language_info": {
   "codemirror_mode": {
    "name": "ipython",
    "version": 3
   },
   "file_extension": ".py",
   "mimetype": "text/x-python",
   "name": "python",
   "nbconvert_exporter": "python",
   "pygments_lexer": "ipython3",
   "version": "3.13.7"
  }
 },
 "nbformat": 4,
 "nbformat_minor": 5
}
