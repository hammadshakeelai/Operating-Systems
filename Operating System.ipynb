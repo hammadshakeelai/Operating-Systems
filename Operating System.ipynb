{
 "cells": [
  {
   "cell_type": "markdown",
   "id": "f59168d4",
   "metadata": {},
   "source": [
    "[Download OS](https://os.click/en/)"
   ]
  },
  {
   "cell_type": "markdown",
   "id": "eabe2bd5",
   "metadata": {},
   "source": [
    "# Operating Systems"
   ]
  },
  {
   "cell_type": "markdown",
   "id": "f3cb6a4a",
   "metadata": {},
   "source": [
    "<hr> Windows<hr>\n",
    "Linux <hr>"
   ]
  },
  {
   "cell_type": "markdown",
   "id": "ff065419",
   "metadata": {},
   "source": [
    "<br>\n",
    "<br>\n",
    "<br>"
   ]
  },
  {
   "cell_type": "markdown",
   "id": "eb01cf8d",
   "metadata": {},
   "source": [
    "Windows<hr>\n",
    "- Windows 11\n",
    "- Windows 10\n",
    "- Windows 8.1\n",
    "- Windows 8\n",
    "- Windows 7\n",
    "- Windows Vista\n",
    "- Windows XP"
   ]
  },
  {
   "cell_type": "markdown",
   "id": "4d54f2a3",
   "metadata": {},
   "source": [
    "<br>\n",
    "<br>\n",
    "<br>"
   ]
  },
  {
   "cell_type": "markdown",
   "id": "260d67d8",
   "metadata": {},
   "source": [
    "Linux<hr>\n",
    "- Arch Linux\n",
    "- Debian\n",
    "- Fedora\n",
    "- Linux Mint\n",
    "- openSUSE Leap\n",
    "- openSUSE TumbleWeed\n",
    "- Ubuntu\n",
    "- Linux Lite"
   ]
  }
 ],
 "metadata": {
  "language_info": {
   "name": "python"
  }
 },
 "nbformat": 4,
 "nbformat_minor": 5
}
