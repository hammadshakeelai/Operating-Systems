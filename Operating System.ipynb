{
 "cells": [
  {
   "cell_type": "markdown",
   "id": "f59168d4",
   "metadata": {},
   "source": [
    "[Download OS](https://os.click/en/)"
   ]
  },
  {
   "cell_type": "markdown",
   "id": "eabe2bd5",
   "metadata": {},
   "source": [
    "# Operating Systems"
   ]
  },
  {
   "cell_type": "markdown",
   "id": "f3cb6a4a",
   "metadata": {},
   "source": [
    "<hr> Windows<hr>\n",
    "Linux <hr>"
   ]
  },
  {
   "cell_type": "markdown",
   "id": "ff065419",
   "metadata": {},
   "source": [
    "<br>\n",
    "<br>\n",
    "<br>"
   ]
  },
  {
   "cell_type": "markdown",
   "id": "eb01cf8d",
   "metadata": {},
   "source": [
    "Windows<hr>\n",
    "- Windows 11\n",
    "- Windows 10\n",
    "- Windows 8.1\n",
    "- Windows 8\n",
    "- Windows 7\n",
    "- Windows Vista\n",
    "- Windows XP"
   ]
  },
  {
   "cell_type": "markdown",
   "id": "4d54f2a3",
   "metadata": {},
   "source": [
    "<br>\n",
    "<br>\n",
    "<br>"
   ]
  },
  {
   "cell_type": "markdown",
   "id": "260d67d8",
   "metadata": {},
   "source": [
    "Linux<hr>\n",
    "- Arch Linux\n",
    "- Debian\n",
    "- Fedora\n",
    "- Linux Mint\n",
    "- openSUSE\n",
    "- Ubuntu\n",
    "- Linux Lite"
   ]
  },
  {
   "cell_type": "markdown",
   "id": "8fb4c818",
   "metadata": {},
   "source": []
  },
  {
   "cell_type": "markdown",
   "id": "90cfcbfb",
   "metadata": {},
   "source": [
    "# OpenSUSE <br>\n",
    "\n",
    "- [Download OpenSUSE Leap](https://get.opensuse.org/leap/15.6/)\n",
    "\n",
    "- [Download OpenSUSE Tumble Weed](https://get.opensuse.org/tumbleweed/)\n",
    "\n",
    "- [Download OpenSUSE Leap Micro](https://get.opensuse.org/leapmicro/6.1/)\n",
    "\n",
    "- [Download OpenSUSE Micro OS](https://get.opensuse.org/microos/)"
   ]
  },
  {
   "cell_type": "markdown",
   "id": "88c6a869",
   "metadata": {},
   "source": [
    "# Window 11\n",
    "\n",
    "- [Download](https://os.click/en/Windows:Windows_11:24H2:26100.1742:Multi-Edition:en-gb:x64)\n",
    "- [Activation Key's](https://gist.github.com/rvrsh3ll/0810c6ed60e44cf7932e4fbae25880df#windows-11)\n",
    "- [Version Change Or Automatic Activation](https://github.com/massgravel/Microsoft-Activation-Scripts)"
   ]
  }
 ],
 "metadata": {
  "language_info": {
   "name": "python"
  }
 },
 "nbformat": 4,
 "nbformat_minor": 5
}
