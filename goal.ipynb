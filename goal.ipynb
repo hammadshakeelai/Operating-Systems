{
 "cells": [
  {
   "cell_type": "markdown",
   "id": "156fc02e",
   "metadata": {},
   "source": [
    "to run \n",
    "dos\n",
    "unix\n",
    "window 98se\n",
    "windows 2000\n",
    "window xp\n",
    "winmenorram\n",
    "opensuse thumble + leap\n",
    "omarchy\n",
    "fedora\n",
    "proxmox\n",
    "vmware esxi\n",
    "rufus\n",
    "belena ecther"
   ]
  },
  {
   "cell_type": "markdown",
   "id": "ec79d505",
   "metadata": {},
   "source": [
    "currently have ran \n",
    "ubuntu\n",
    "debian\n",
    "mint\n",
    "lite\n",
    "kali\n",
    "arch with archinstall\n",
    "arch_linux_gnome_gui gui install\n",
    "window 7\n",
    "window 11\n",
    "window vista\n",
    "tried vmware , hyper v , virtual box\n",
    "i find hyper especially challenging do to its featuers being not easy to find or use\n",
    "virtual box being easiest\n",
    "vmware being the best but not easiest"
   ]
  },
  {
   "cell_type": "markdown",
   "id": "d3ac7f10",
   "metadata": {},
   "source": [
    "would generate more goal using chatgpt after i can manually install arch without arch install on expert mode\n",
    "without help\n"
   ]
  }
 ],
 "metadata": {
  "language_info": {
   "name": "python"
  }
 },
 "nbformat": 4,
 "nbformat_minor": 5
}
