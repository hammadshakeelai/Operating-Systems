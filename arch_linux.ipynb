{
 "cells": [
  {
   "cell_type": "markdown",
   "id": "0d45518a",
   "metadata": {},
   "source": [
    "to update arch linux"
   ]
  },
  {
   "cell_type": "markdown",
   "id": "f779a3c9",
   "metadata": {},
   "source": [
    "pacman -Syu"
   ]
  },
  {
   "cell_type": "code",
   "execution_count": 14,
   "metadata": {},
   "outputs": [
    {
     "name": "stderr",
     "output_type": "stream",
     "text": [
      "C:/msys64/ucrt64/bin/../lib/gcc/x86_64-w64-mingw32/14.2.0/../../../../x86_64-w64-mingw32/bin/ld.exe:m.jpg: file format not recognized; treating as linker script\n",
      "C:/msys64/ucrt64/bin/../lib/gcc/x86_64-w64-mingw32/14.2.0/../../../../x86_64-w64-mingw32/bin/ld.exe:m.jpg:2: syntax error\n",
      "collect2.exe: error: ld returned 1 exit status\n"
     ]
    }
   ],
   "source": [
    "\n",
    "!g++ m.jpg -o main.exe\n"
   ]
  },
  {
   "cell_type": "code",
   "execution_count": 8,
   "id": "63717f40",
   "metadata": {},
   "outputs": [
    {
     "name": "stdout",
     "output_type": "stream",
     "text": [
      "Microsoft Windows [Version 10.0.26200.6725]\n",
      "(c) Microsoft Corporation. All rights reserved.\n",
      "\n",
      "d:\\Github\\Operating-Systems>./main\n"
     ]
    },
    {
     "name": "stderr",
     "output_type": "stream",
     "text": [
      "'.' is not recognized as an internal or external command,\n",
      "operable program or batch file.\n"
     ]
    },
    {
     "name": "stdout",
     "output_type": "stream",
     "text": [
      "\n",
      "d:\\Github\\Operating-Systems>"
     ]
    }
   ],
   "source": [
    "%%cmd\n",
    "./main"
   ]
  }
 ],
 "metadata": {
  "kernelspec": {
   "display_name": "Python 3",
   "language": "python",
   "name": "python3"
  },
  "language_info": {
   "codemirror_mode": {
    "name": "ipython",
    "version": 3
   },
   "file_extension": ".py",
   "mimetype": "text/x-python",
   "name": "python",
   "nbconvert_exporter": "python",
   "pygments_lexer": "ipython3",
   "version": "3.12.10"
  }
 },
 "nbformat": 4,
 "nbformat_minor": 5
}
